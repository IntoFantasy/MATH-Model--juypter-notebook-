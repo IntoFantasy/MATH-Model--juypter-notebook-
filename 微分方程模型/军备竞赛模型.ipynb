{
 "cells": [
  {
   "cell_type": "markdown",
   "metadata": {},
   "source": [
    "# 军备竞赛模型"
   ]
  },
  {
   "cell_type": "markdown",
   "metadata": {},
   "source": [
    "![军备竞赛模型](picture/军备竞赛模型.png)"
   ]
  },
  {
   "cell_type": "markdown",
   "metadata": {},
   "source": [
    "![向量场分析](picture/向量场分析.png)"
   ]
  }
 ],
 "metadata": {
  "kernelspec": {
   "display_name": "IntoFantasy",
   "language": "python",
   "name": "intofantasy"
  },
  "language_info": {
   "codemirror_mode": {
    "name": "ipython",
    "version": 3
   },
   "file_extension": ".py",
   "mimetype": "text/x-python",
   "name": "python",
   "nbconvert_exporter": "python",
   "pygments_lexer": "ipython3",
   "version": "3.9.6"
  }
 },
 "nbformat": 4,
 "nbformat_minor": 4
}
